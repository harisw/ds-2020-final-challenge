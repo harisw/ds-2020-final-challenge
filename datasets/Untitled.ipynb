{
 "cells": [
  {
   "cell_type": "code",
   "execution_count": 10,
   "metadata": {},
   "outputs": [],
   "source": [
    "from random import randrange\n",
    "from random import randint\n",
    "out_file = open(\"pin_custom_1000000.txt\", \"w\")\n",
    "for ind in range(0,1000000):\n",
    "    cmd = randrange(15)\n",
    "    if cmd < 10:  #if addition\n",
    "        i = str(randint(1, 1000000))\n",
    "        x = str(randint(0, 2**31-1))\n",
    "        y = str(randint(0, 2**31-1))\n",
    "        out_file.write(\"+ \"+i+\" \"+x+\" \"+y)\n",
    "    elif cmd >= 10 and cmd < 12:  #if deletion\n",
    "        i = str(randint(1, 1000000))\n",
    "        out_file.write(\"- \"+i+\" \"+x+\" \"+y)\n",
    "    else:  #if query\n",
    "        x = str(randint(0, 2**31-1))\n",
    "        y = str(randint(0, 2**31-1))\n",
    "        d = str(randint(1, 1000000))\n",
    "        out_file.write(\"? \"+x+\" \"+y+\" \"+d)\n",
    "    out_file.write('\\n')\n",
    "out_file.close()"
   ]
  }
 ],
 "metadata": {
  "kernelspec": {
   "display_name": "Python 3",
   "language": "python",
   "name": "python3"
  },
  "language_info": {
   "codemirror_mode": {
    "name": "ipython",
    "version": 3
   },
   "file_extension": ".py",
   "mimetype": "text/x-python",
   "name": "python",
   "nbconvert_exporter": "python",
   "pygments_lexer": "ipython3",
   "version": "3.7.7"
  }
 },
 "nbformat": 4,
 "nbformat_minor": 4
}
